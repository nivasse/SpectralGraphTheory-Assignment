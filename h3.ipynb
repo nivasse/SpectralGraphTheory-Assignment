{
 "cells": [
  {
   "cell_type": "markdown",
   "metadata": {},
   "source": [
    "**Put any package imports you need in the below space**"
   ]
  },
  {
   "cell_type": "code",
   "execution_count": 162,
   "metadata": {
    "collapsed": false
   },
   "outputs": [
    {
     "name": "stdout",
     "output_type": "stream",
     "text": [
      "Once deleted, variables cannot be recovered. Proceed (y/[n])? y\n"
     ]
    }
   ],
   "source": [
    "%reset\n",
    "# you will want this if plotting with pyplot\n",
    "%matplotlib inline \n",
    "import networkx as nx\n",
    "import matplotlib.pyplot as plt\n",
    "import seaborn as sns\n",
    "import numpy as np\n",
    "import networkx.linalg.spectrum as spectrum\n",
    "\n"
   ]
  },
  {
   "cell_type": "markdown",
   "metadata": {},
   "source": [
    "**Exercise 1**: Generating the adjacency matrix A for graphs of particular type. Write a script that generates the adjacency matrix A for each of the following graphs and prints this matrix onto the screen:\n",
    "1. K5: 5-clique, or a fully connected simple, undirected graph of 5 nodes\n",
    "2. K5.3: two disconnected components, C1 and C2, where C1 is a 5-clique K5 and C2 is a 3-clique K3\n",
    "3. K5.3e: Almost the same as K53 but there is a single edge connecting the two components\n",
    "4. B2.3: Complete bi-partite graph with n1=2 nodes in the first part and n2=3 nodes in the second part\n",
    "5. S5: A 5-vertex star (one central \"hub\" node that connects to all the other \"spoke\" nodes)\n",
    "6. P5: A simple path of 5 vertices\n"
   ]
  },
  {
   "cell_type": "code",
   "execution_count": 163,
   "metadata": {
    "collapsed": false
   },
   "outputs": [
    {
     "name": "stdout",
     "output_type": "stream",
     "text": [
      "Adjacency matrix of k5\n",
      "[[0 1 1 1 1]\n",
      " [1 0 1 1 1]\n",
      " [1 1 0 1 1]\n",
      " [1 1 1 0 1]\n",
      " [1 1 1 1 0]]\n",
      "Adjacency matrix of k5.3\n",
      "[[0 1 1 1 1 0 0 0]\n",
      " [1 0 1 1 1 0 0 0]\n",
      " [1 1 0 1 1 0 0 0]\n",
      " [1 1 1 0 1 0 0 0]\n",
      " [1 1 1 1 0 0 0 0]\n",
      " [0 0 0 0 0 0 1 1]\n",
      " [0 0 0 0 0 1 0 1]\n",
      " [0 0 0 0 0 1 1 0]]\n",
      "Adjacency matrix of k5.3e\n",
      "[[0 1 1 1 1 0 0 0]\n",
      " [1 0 1 1 1 0 0 0]\n",
      " [1 1 0 1 1 0 0 0]\n",
      " [1 1 1 0 1 0 0 0]\n",
      " [1 1 1 1 0 1 0 0]\n",
      " [0 0 0 0 1 0 1 1]\n",
      " [0 0 0 0 0 1 0 1]\n",
      " [0 0 0 0 0 1 1 0]]\n",
      "Adjacency matrix of b2.3\n",
      "[[0 0 1 1 1]\n",
      " [0 0 1 1 1]\n",
      " [1 1 0 0 0]\n",
      " [1 1 0 0 0]\n",
      " [1 1 0 0 0]]\n",
      "Adjacency matrix of s5\n",
      "[[0 1 1 1 1]\n",
      " [1 0 0 0 0]\n",
      " [1 0 0 0 0]\n",
      " [1 0 0 0 0]\n",
      " [1 0 0 0 0]]\n",
      "Adjacency matrix of p5\n",
      "[[0 1 0 0 0]\n",
      " [1 0 1 0 0]\n",
      " [0 1 0 1 0]\n",
      " [0 0 1 0 1]\n",
      " [0 0 0 1 0]]\n"
     ]
    }
   ],
   "source": [
    "graphs = {}\n",
    "adjmats = {}\n",
    "#1. K5: 5-clique, or a fully connected simple, undirected graph of 5 nodes\n",
    "graphs['k5'] = nx.complete_graph(5)\n",
    "adjmats['k5'] = nx.adjacency_matrix(graphs['k5'])\n",
    "print('Adjacency matrix of k5')\n",
    "print(adjmats['k5'].todense())\n",
    "\n",
    "#2. K5.3: two disconnected components, C1 and C2, where C1 is a 5-clique K5 and C2 is a 3-clique K3\n",
    "k3 = nx.complete_graph(3)\n",
    "graphs['k5.3']= nx.disjoint_union(graphs['k5'],k3)\n",
    "adjmats['k5.3'] = nx.adjacency_matrix(graphs['k5.3'])\n",
    "print('Adjacency matrix of k5.3')\n",
    "print(adjmats['k5.3'].todense())\n",
    "\n",
    "#3. K5.3e: Almost the same as K53 but there is a single edge connecting the two components\n",
    "graphs['k5.3e'] = nx.disjoint_union(nx.complete_graph(5),nx.complete_graph(3)) #temporary initialization\n",
    "graphs['k5.3e'].add_edge(4,5)\n",
    "adjmats['k5.3e'] = nx.adjacency_matrix(graphs['k5.3e'])\n",
    "print('Adjacency matrix of k5.3e')\n",
    "print(adjmats['k5.3e'].todense())\n",
    "\n",
    "#4. B2.3: Complete bi-partite graph with n1=2 nodes in the first part and n2=3 nodes in the second part\n",
    "graphs['b2.3'] = nx.complete_bipartite_graph(2,3)\n",
    "adjmats['b2.3'] = nx.adjacency_matrix(graphs['b2.3'])\n",
    "print('Adjacency matrix of b2.3')\n",
    "print(adjmats['b2.3'].todense())\n",
    "\n",
    "#5. S5: A 5-vertex star (one central \"hub\" node that connects to all the other \"spoke\" nodes)\n",
    "graphs['s5'] = nx.complete_bipartite_graph(1,4)\n",
    "adjmats['s5'] = nx.adjacency_matrix(graphs['s5'])\n",
    "print('Adjacency matrix of s5')\n",
    "print(adjmats['s5'].todense())\n",
    "\n",
    "#6. P5: A simple path of 5 vertices\n",
    "graphs['p5'] = nx.path_graph(5)\n",
    "adjmats['p5'] = nx.adjacency_matrix(graphs['p5'])\n",
    "print('Adjacency matrix of p5')\n",
    "print(adjmats['p5'].todense())\n",
    "\n"
   ]
  },
  {
   "cell_type": "markdown",
   "metadata": {},
   "source": [
    "**Exercise 2**: Generating the degree matrix D for a given adjacency matrix A. Write a script that generates a degree matrix for each of the adjacency matrices in Exercise 1. Note that the degree matrix is a diagonal matrix where all the positions except for the diagonal are zero's. The diagonal elements correspond to the degrees of the corresponding nodes, namely Dii = degree(v_i)."
   ]
  },
  {
   "cell_type": "code",
   "execution_count": 164,
   "metadata": {
    "collapsed": false
   },
   "outputs": [
    {
     "name": "stdout",
     "output_type": "stream",
     "text": [
      "Degree matrix for k5.3 graph\n",
      "[[4 0 0 0 0 0 0 0]\n",
      " [0 4 0 0 0 0 0 0]\n",
      " [0 0 4 0 0 0 0 0]\n",
      " [0 0 0 4 0 0 0 0]\n",
      " [0 0 0 0 4 0 0 0]\n",
      " [0 0 0 0 0 2 0 0]\n",
      " [0 0 0 0 0 0 2 0]\n",
      " [0 0 0 0 0 0 0 2]]\n",
      "\n",
      "\n",
      "Degree matrix for p5 graph\n",
      "[[1 0 0 0 0]\n",
      " [0 2 0 0 0]\n",
      " [0 0 2 0 0]\n",
      " [0 0 0 2 0]\n",
      " [0 0 0 0 1]]\n",
      "\n",
      "\n",
      "Degree matrix for s5 graph\n",
      "[[4 0 0 0 0]\n",
      " [0 1 0 0 0]\n",
      " [0 0 1 0 0]\n",
      " [0 0 0 1 0]\n",
      " [0 0 0 0 1]]\n",
      "\n",
      "\n",
      "Degree matrix for k5.3e graph\n",
      "[[4 0 0 0 0 0 0 0]\n",
      " [0 4 0 0 0 0 0 0]\n",
      " [0 0 4 0 0 0 0 0]\n",
      " [0 0 0 4 0 0 0 0]\n",
      " [0 0 0 0 5 0 0 0]\n",
      " [0 0 0 0 0 3 0 0]\n",
      " [0 0 0 0 0 0 2 0]\n",
      " [0 0 0 0 0 0 0 2]]\n",
      "\n",
      "\n",
      "Degree matrix for b2.3 graph\n",
      "[[3 0 0 0 0]\n",
      " [0 3 0 0 0]\n",
      " [0 0 2 0 0]\n",
      " [0 0 0 2 0]\n",
      " [0 0 0 0 2]]\n",
      "\n",
      "\n",
      "Degree matrix for k5 graph\n",
      "[[4 0 0 0 0]\n",
      " [0 4 0 0 0]\n",
      " [0 0 4 0 0]\n",
      " [0 0 0 4 0]\n",
      " [0 0 0 0 4]]\n",
      "\n",
      "\n"
     ]
    }
   ],
   "source": [
    "degmats={}\n",
    "#function for generating degree matrix\n",
    "def generate_degmat(adjmat):\n",
    "    g=nx.to_networkx_graph(adjmat)\n",
    "    n=len(g.nodes())\n",
    "    degmat=np.zeros((n,n),dtype=int)\n",
    "    for i in range(n):\n",
    "        degmat[i,i]=g.degree(i)\n",
    "    print degmat\n",
    "    return degmat\n",
    "#generating degree matrix for every graph created in exercise 1\n",
    "for key in graphs:\n",
    "    print (\"Degree matrix for \"+key+\" graph\")\n",
    "    degmats[key]=generate_degmat(adjmats[key])\n",
    "    print('\\n')\n"
   ]
  },
  {
   "cell_type": "markdown",
   "metadata": {},
   "source": [
    "**Exercise 3**: Generating the graph Laplacian matrix L for a given adjacency matrix A and its degree matrix D. Write a script that generates the graph Laplacian matrix L = D - A for each of the adjacency matrices in Exercise 1."
   ]
  },
  {
   "cell_type": "code",
   "execution_count": 165,
   "metadata": {
    "collapsed": false
   },
   "outputs": [
    {
     "name": "stdout",
     "output_type": "stream",
     "text": [
      "Laplacian matrix for k5.3 graph\n",
      "[[ 4 -1 -1 -1 -1  0  0  0]\n",
      " [-1  4 -1 -1 -1  0  0  0]\n",
      " [-1 -1  4 -1 -1  0  0  0]\n",
      " [-1 -1 -1  4 -1  0  0  0]\n",
      " [-1 -1 -1 -1  4  0  0  0]\n",
      " [ 0  0  0  0  0  2 -1 -1]\n",
      " [ 0  0  0  0  0 -1  2 -1]\n",
      " [ 0  0  0  0  0 -1 -1  2]]\n",
      "\n",
      "\n",
      "Laplacian matrix for p5 graph\n",
      "[[ 1 -1  0  0  0]\n",
      " [-1  2 -1  0  0]\n",
      " [ 0 -1  2 -1  0]\n",
      " [ 0  0 -1  2 -1]\n",
      " [ 0  0  0 -1  1]]\n",
      "\n",
      "\n",
      "Laplacian matrix for s5 graph\n",
      "[[ 4 -1 -1 -1 -1]\n",
      " [-1  1  0  0  0]\n",
      " [-1  0  1  0  0]\n",
      " [-1  0  0  1  0]\n",
      " [-1  0  0  0  1]]\n",
      "\n",
      "\n",
      "Laplacian matrix for k5.3e graph\n",
      "[[ 4 -1 -1 -1 -1  0  0  0]\n",
      " [-1  4 -1 -1 -1  0  0  0]\n",
      " [-1 -1  4 -1 -1  0  0  0]\n",
      " [-1 -1 -1  4 -1  0  0  0]\n",
      " [-1 -1 -1 -1  5 -1  0  0]\n",
      " [ 0  0  0  0 -1  3 -1 -1]\n",
      " [ 0  0  0  0  0 -1  2 -1]\n",
      " [ 0  0  0  0  0 -1 -1  2]]\n",
      "\n",
      "\n",
      "Laplacian matrix for b2.3 graph\n",
      "[[ 3  0 -1 -1 -1]\n",
      " [ 0  3 -1 -1 -1]\n",
      " [-1 -1  2  0  0]\n",
      " [-1 -1  0  2  0]\n",
      " [-1 -1  0  0  2]]\n",
      "\n",
      "\n",
      "Laplacian matrix for k5 graph\n",
      "[[ 4 -1 -1 -1 -1]\n",
      " [-1  4 -1 -1 -1]\n",
      " [-1 -1  4 -1 -1]\n",
      " [-1 -1 -1  4 -1]\n",
      " [-1 -1 -1 -1  4]]\n",
      "\n",
      "\n"
     ]
    }
   ],
   "source": [
    "lapmats={}\n",
    "#function to generate laplacian matrix from adjacency matrix(a) and degree matrix(d)\n",
    "def generate_lapmat(a,d):\n",
    "    l = d - a\n",
    "    print l\n",
    "    return l\n",
    "for key in graphs:\n",
    "    print (\"Laplacian matrix for \"+key+\" graph\")\n",
    "    lapmats[key]=generate_lapmat(adjmats[key],degmats[key])\n",
    "    print('\\n')"
   ]
  },
  {
   "cell_type": "markdown",
   "metadata": {},
   "source": [
    "Answer the following questions:\n",
    "1. Is L a sparse matrix?\n",
    "2. In what positions does L have non-zero elements?\n",
    "3. What are the values of the non-diagonal and non-zero elements?\n",
    "4. What does L contain along its diagonal?\n",
    "\n"
   ]
  },
  {
   "cell_type": "markdown",
   "metadata": {},
   "source": [
    "Exercise 3 solutions:\n",
    "1. For all the graphs the number of non zero elements is greater than the number of zero elements. Hence L isn't a sparse matrix\n",
    "\n",
    "2. L for every graph g has non-zero elements in:\n",
    "    a. Diagonal positions\n",
    "    b. Positions of non-zero elements in adjacency matrix of the respective graph g.\n",
    "\n",
    "3. The values of non-diagonal and non-zero elements are -1.\n",
    "\n",
    "4. Diagonal elements are elements in positions (i,i) where i is in [0,number of nodes-1]. Each element in position (i,i) contains the degree of the ith node. "
   ]
  },
  {
   "cell_type": "markdown",
   "metadata": {},
   "source": [
    "**Exercise 4**: Generating the graph spectrum, or the multiset of the eigenvalues of the graph adjacency matrix A. Write a script that calculates the eigenvalues of the graph adjacency matrix for each of the matrices in Exercise 1. Plot the eigenvalues in the increasing order of their values"
   ]
  },
  {
   "cell_type": "code",
   "execution_count": 166,
   "metadata": {
    "collapsed": false
   },
   "outputs": [
    {
     "name": "stdout",
     "output_type": "stream",
     "text": [
      "Eigen values of adjacency matrix for k5.3 graph\n",
      "[-1.+0.j  4.+0.j -1.+0.j -1.+0.j -1.+0.j -1.+0.j  2.+0.j -1.+0.j]\n",
      "\n",
      "\n",
      "Eigen values of adjacency matrix for p5 graph\n",
      "[  1.73205081e+00+0.j  -1.73205081e+00+0.j  -1.00000000e+00+0.j\n",
      "  -3.29824209e-17+0.j   1.00000000e+00+0.j]\n",
      "\n",
      "\n",
      "Eigen values of adjacency matrix for s5 graph\n",
      "[ 2.+0.j -2.+0.j  0.+0.j  0.+0.j  0.+0.j]\n",
      "\n",
      "\n",
      "Eigen values of adjacency matrix for k5.3e graph\n",
      "[ 4.06153444+0.j  2.05492255+0.j -1.77987114+0.j -0.33658584+0.j\n",
      " -1.00000000+0.j -1.00000000+0.j -1.00000000+0.j -1.00000000+0.j]\n",
      "\n",
      "\n",
      "Eigen values of adjacency matrix for b2.3 graph\n",
      "[  2.44948974e+00+0.j  -2.44948974e+00+0.j   2.88661590e-16+0.j\n",
      "   9.66600675e-48+0.j   1.21543267e-63+0.j]\n",
      "\n",
      "\n",
      "Eigen values of adjacency matrix for k5 graph\n",
      "[-1.+0.j  4.+0.j -1.+0.j -1.+0.j -1.+0.j]\n",
      "\n",
      "\n"
     ]
    },
    {
     "data": {
      "image/png": "[encoded data removed]",
      "text/plain": [
       "<matplotlib.figure.Figure at 0x115b34b50>"
      ]
     },
     "metadata": {},
     "output_type": "display_data"
    }
   ],
   "source": [
    "eigen_adjmats={}\n",
    "ax_eigen_adjmat = {}\n",
    "#function to generate eigen values from adjacency matrix(a) and degree matrix(d)\n",
    "def generate_eigen_adjmat(g):\n",
    "    eigenvalues = spectrum.adjacency_spectrum(g)\n",
    "    print eigenvalues\n",
    "    return eigenvalues\n",
    "fig1=plt.figure()\n",
    "fig1.set_size_inches(12,8)\n",
    "fig1.suptitle(\"Eigen values of adjacency matrix of each graph\",y=1.05)\n",
    "for i,key in enumerate(graphs):\n",
    "    print (\"Eigen values of adjacency matrix for \"+key+\" graph\")\n",
    "    eigen_adjmats[key]=generate_eigen_adjmat(graphs[key])\n",
    "    ax_eigen_adjmat[i+1] = fig1.add_subplot(3,2,i+1)\n",
    "    ax_eigen_adjmat[i+1].set_title(key)\n",
    "    ax_eigen_adjmat[i+1].scatter(range(len(eigen_adjmats[key])),np.sort(eigen_adjmats[key]))\n",
    "    ax_eigen_adjmat[i+1].set_xticks([])\n",
    "    print('\\n')\n",
    "plt.tight_layout()"
   ]
  },
  {
   "cell_type": "markdown",
   "metadata": {},
   "source": [
    "Answer the following questions:\n",
    "1. What can you say about the eigenvalues of the complete graph (K5): the number of unique eigenvalues, the largest and the smallest eigenvalues, the multiplicity (how many times the same eigenvalue appears) of each eigenvalue?\n",
    "2. What is the graph spectrum of the bi-partite graph, B2.3? If n1 = n and n2 = m (a general complete bi-partite graph), then what can you say about its graph spectrum? [Hint: check sqrt(n * m)] If \\lambda is the eigenvalue of the bi-partite graph, will minus \\lambda be also the eigenvalue?\n",
    "3. What is the largest eigenvalue of the star graph S5? If S5 were generalized to an N-vertex star, what could you say about the value of its largest eigenvalue?\n",
    "4. What is the largest eigenvalue of the path graph P5? As the length of the path increases, what can you say about the changes in the largest eigenvalue?\n",
    "5. How does the largest eigenvalue of the path P5 (or its more generalization to an arbitrary length) compare with the largest eigenvalues of the star graph or the complete graph? If you are asked to sort the largest eigenvalue of the path, the star, and the clique) in the increasing order, what kind of relationship would you assign (E.g., \\lambda{path} > or < than \\lambda{star})?\n"
   ]
  },
  {
   "cell_type": "markdown",
   "metadata": {},
   "source": [
    "Exercise 4 solutions:\n",
    "1. In k5 graph (Point to note - sum of eigenvalues in complete graph is 0):<br>\n",
    "    a. Number of unique eigenvalues : 2<br>\n",
    "    b. Largest eigenvalue : 4+ 0j<br>\n",
    "    c. Smallest eigenvalue : -1 +0j<br>\n",
    "    d. Multiplicity: (-1+ 0j) occurs 4 times.(4+ 0j) occurs once.<br>\n",
    "<br>\n",
    "\n",
    "2. [  2.44948974e+00+0.j  -2.44948974e+00+0.j   2.88661590e-16+0.j 9.66600675e-48+0.j   1.21543267e-63+0.j] is the spectrum of bipartite. This can be approximated to [  2.44948974e+00+0.j  -2.44948974e+00+0.j   0     0      0       0]. The graph spectrum of the bi partite graph consists of sqrt(nm) and -sqrt(nm) and the remaining values are zero. <br>\n",
    "<br>\n",
    "3. Largest eigenvalue of S5: 2 + 0j. The largest eigenvalue of a N-vertex star will be $(N-1)^{1/2}$.<br>\n",
    "<br>\n",
    "4. Largest eigenvalue of P5 graph is 1.73205081. As the length of the path increases, the highest eigenvalue tends towards 2 (which is the max degree and is the upper bound of the highest eigenvalue).<br>\n",
    "<br>\n",
    "5. Lambda(P5) < Lambda(S5) < Lambda(K5)<br>\n",
    "   Lambda(path) <= Lambda(star) <= Lambda(clique)<br> \n",
    "   \n",
    "   \n"
   ]
  },
  {
   "cell_type": "markdown",
   "metadata": {},
   "source": [
    "**Exercise 5**: Generating the graph spectrum, or the multiset of the eigenvalues of the graph Laplacian. Write a script that calculates the eigenvalues of the graph Laplacian for each of the graphs in Exercise 1. Plot the eigenvalues in the increasing order of their values. "
   ]
  },
  {
   "cell_type": "code",
   "execution_count": 159,
   "metadata": {
    "collapsed": false
   },
   "outputs": [
    {
     "name": "stdout",
     "output_type": "stream",
     "text": [
      "Eigen values of the Laplacian of k5.3 graph\n",
      "[ -7.77156117e-16  -1.11022302e-16   3.00000000e+00   3.00000000e+00\n",
      "   5.00000000e+00   5.00000000e+00   5.00000000e+00   5.00000000e+00]\n",
      "\n",
      "\n",
      "Eigen values of the Laplacian of p5 graph\n",
      "[  4.99692479e-17   3.81966011e-01   1.38196601e+00   2.61803399e+00\n",
      "   3.61803399e+00]\n",
      "\n",
      "\n",
      "Eigen values of the Laplacian of s5 graph\n",
      "[ 0.  1.  1.  1.  5.]\n",
      "\n",
      "\n",
      "Eigen values of the Laplacian of k5.3e graph\n",
      "[ -1.44328993e-15   3.73801931e-01   3.00000000e+00   3.48486195e+00\n",
      "   5.00000000e+00   5.00000000e+00   5.00000000e+00   6.14133612e+00]\n",
      "\n",
      "\n",
      "Eigen values of the Laplacian of b2.3 graph\n",
      "[ -8.32667268e-16   2.00000000e+00   2.00000000e+00   3.00000000e+00\n",
      "   5.00000000e+00]\n",
      "\n",
      "\n",
      "Eigen values of the Laplacian of k5 graph\n",
      "[ -8.88178420e-16   5.00000000e+00   5.00000000e+00   5.00000000e+00\n",
      "   5.00000000e+00]\n",
      "\n",
      "\n"
     ]
    },
    {
     "data": {
      "image/png": "[encoded data removed]",
      "text/plain": [
       "<matplotlib.figure.Figure at 0x115c8a9d0>"
      ]
     },
     "metadata": {},
     "output_type": "display_data"
    }
   ],
   "source": [
    "eigen_lap={}\n",
    "ax = {}\n",
    "#function to generate laplacian matrix from adjacency matrix(a) and degree matrix(d)\n",
    "def generate_eigen_adjmat(g):\n",
    "    eigenvalues = spectrum.laplacian_spectrum(g)\n",
    "    print eigenvalues\n",
    "    return eigenvalues\n",
    "fig = plt.figure()\n",
    "fig.set_size_inches(12,8)\n",
    "fig.suptitle(\"Eigen values of laplacian matrix of each graph\",y=1)\n",
    "for i,key in enumerate(graphs):\n",
    "    print (\"Eigen values of the Laplacian of \"+key+\" graph\")\n",
    "    eigen_lap[key]=generate_eigen_adjmat(graphs[key])\n",
    "    ax[i+1] = fig.add_subplot(3,2,i+1)\n",
    "    ax[i+1].scatter(range(len(eigen_lap[key])),np.sort(eigen_lap[key]))\n",
    "    ax[i+1].set_xticks([])\n",
    "    ax[i+1].set_title(key)\n",
    "    print('\\n')"
   ]
  },
  {
   "cell_type": "markdown",
   "metadata": {},
   "source": [
    "Answer the following questions:\n",
    "1. What can you say about the largest and the smallest eigenvalues?\n",
    "2. What is the multiplicity (how many times the same eigenvalue appears) of the zero eigenvalue for each of the cases?\n",
    "3. If K53 graph would be generalized to include c>2 components, what can you say about the multiplicity of the zero eigenvalues?\n",
    "4. If graph G is connected (i.e., the number of disconnected components is one), what can you say about the multiplicity of the zero eigenvalue?\n",
    "5. For the bi-partite graph, what is the value of the second smallest eigenvalue?\n",
    "6. Is the vector, whose components consist of 1's only, the eigenvector of the Laplacian? If it is, then what is its corresponding eigenvalue?\n",
    "7. Suppose the graph Laplacian matrix has the zero eigenvalue of multiplicity k. Can you say anything about the structure of such a graph?\n"
   ]
  },
  {
   "cell_type": "markdown",
   "metadata": {},
   "source": [
    "*Put answers here*"
   ]
  },
  {
   "cell_type": "markdown",
   "metadata": {},
   "source": [
    "1. Smallest eigenvalue in all the graphs is 0. The largest eigenvalue is always related to the maximum degree of the graph.<br>\n",
    "<br>\n",
    "2. a. Multiplicity of Graphs p5, s5, b2.3, k5, k5.3e - 1<br>\n",
    "   b. Multiplicity of Graphs k5.3 - 2<br>\n",
    "<br>\n",
    "3. Multiplicity of the zero eigenvalues would be c for a graph with c disconnected components.<br>\n",
    "<br>\n",
    "4. Multiplicity of zero eigenvalue for connected graph G is 1. <br>\n",
    "<br>\n",
    "5. Value of the second smallest eigenvalue in the b2.3 graph is 2 (i.e. min(2,3)).<br>\n",
    "<br>\n",
    "6. No, the vector whose components consist of 1's only is not the eigenvector of the Laplacian.<br>\n",
    "<br>\n",
    "7. We can imply that such a graph has k disconnected components<br>\n",
    "<br>\n",
    "\n",
    "\n",
    "\n"
   ]
  },
  {
   "cell_type": "code",
   "execution_count": null,
   "metadata": {
    "collapsed": false
   },
   "outputs": [],
   "source": []
  },
  {
   "cell_type": "code",
   "execution_count": null,
   "metadata": {
    "collapsed": true
   },
   "outputs": [],
   "source": []
  }
 ],
 "metadata": {
  "kernelspec": {
   "display_name": "Python 2",
   "language": "python",
   "name": "python2"
  },
  "language_info": {
   "codemirror_mode": {
    "name": "ipython",
    "version": 2
   },
   "file_extension": ".py",
   "mimetype": "text/x-python",
   "name": "python",
   "nbconvert_exporter": "python",
   "pygments_lexer": "ipython2",
   "version": "2.7.11"
  }
 },
 "nbformat": 4,
 "nbformat_minor": 0
}
